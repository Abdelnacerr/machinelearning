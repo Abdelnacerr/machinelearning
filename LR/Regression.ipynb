{
 "cells": [
  {
   "cell_type": "code",
   "execution_count": 26,
   "metadata": {},
   "outputs": [
    {
     "name": "stdout",
     "output_type": "stream",
     "text": [
      "   G1  G2  G3  age  studytime  failures  absences\n",
      "0   5   6   6   18          2         0         6\n",
      "1   5   5   6   17          2         0         4\n",
      "2   7   8  10   15          2         3        10\n",
      "3  15  14  15   15          3         0         2\n",
      "4   6  10  10   16          2         0         4\n",
      "Coefficient:  [ 0.1595154   0.95952641 -0.13727545 -0.21622751 -0.20632295  0.03828279]\n",
      "Intercept:  1.0067558607373162\n"
     ]
    },
    {
     "name": "stderr",
     "output_type": "stream",
     "text": [
      "/var/folders/g2/h64125750z74clw5blr8n3yw0000gn/T/ipykernel_15345/635924543.py:17: FutureWarning: In a future version of pandas all arguments of DataFrame.drop except for the argument 'labels' will be keyword-only.\n",
      "  x = np.array(data.drop([predict], 1))\n"
     ]
    },
    {
     "ename": "AttributeError",
     "evalue": "'LinearRegression' object has no attribute 'accuracy'",
     "output_type": "error",
     "traceback": [
      "\u001b[0;31m---------------------------------------------------------------------------\u001b[0m",
      "\u001b[0;31mAttributeError\u001b[0m                            Traceback (most recent call last)",
      "Cell \u001b[0;32mIn [26], line 40\u001b[0m\n\u001b[1;32m     38\u001b[0m \u001b[39mprint\u001b[39m(\u001b[39m\"\u001b[39m\u001b[39mCoefficient: \u001b[39m\u001b[39m\"\u001b[39m, model\u001b[39m.\u001b[39mcoef_)\n\u001b[1;32m     39\u001b[0m \u001b[39mprint\u001b[39m(\u001b[39m\"\u001b[39m\u001b[39mIntercept: \u001b[39m\u001b[39m\"\u001b[39m, model\u001b[39m.\u001b[39mintercept_)\n\u001b[0;32m---> 40\u001b[0m \u001b[39mprint\u001b[39m(\u001b[39m\"\u001b[39m\u001b[39mAccuracy: \u001b[39m\u001b[39m\"\u001b[39m, model\u001b[39m.\u001b[39;49maccuracy)\n\u001b[1;32m     42\u001b[0m predictions \u001b[39m=\u001b[39m model\u001b[39m.\u001b[39mpredict(x_test)\n\u001b[1;32m     44\u001b[0m \u001b[39mfor\u001b[39;00m x \u001b[39min\u001b[39;00m \u001b[39mrange\u001b[39m(\u001b[39mlen\u001b[39m(predictions)):\n",
      "\u001b[0;31mAttributeError\u001b[0m: 'LinearRegression' object has no attribute 'accuracy'"
     ]
    }
   ],
   "source": [
    "import pandas as pd\n",
    "import numpy as np\n",
    "import matplotlib.pyplot as plt\n",
    "import sklearn\n",
    "from sklearn.utils import shuffle\n",
    "from sklearn import linear_model, preprocessing\n",
    "from matplotlib import style\n",
    "\n",
    "data = pd.read_csv(\"/Users/mohamedabdinasir/Downloads/student/student-mat.csv\", sep=\";\")\n",
    "\n",
    "data = data[[\"G1\", \"G2\", \"G3\", \"age\", \"studytime\", \"failures\", \"absences\"]]\n",
    "print(data.head())\n",
    "\n",
    "predict = \"G3\"\n",
    "\n",
    "x = np.array(data.drop([predict], 1))\n",
    "y = np.array(data[predict])\n",
    "x_train, x_test, y_train, y_test = sklearn.model_selection.train_test_split(x, y, test_size=0.1)\n",
    "\n",
    "# best = 0\n",
    "\n",
    "# for i in range(30):\n",
    "#     model = linear_model.LinearRegression()\n",
    "#     model.fit(x_train, y_train)\n",
    "#     acc = model.score(x_test, y_test) \n",
    "#     print(\"accuracy: \", acc)\n",
    "\n",
    "#     if acc > best:\n",
    "#         best = acc\n",
    "#         with open(\"studentmodel.pickle\", \"wb\") as f:\n",
    "#             pickle.dump(model, f)\n",
    "#         break\n",
    "\n",
    "pickle_in = open(\"studentmodel.pickle\", \"rb\")\n",
    "model = pickle.load(pickle_in)\n",
    "\n",
    "print(\"Coefficient: \", model.coef_)\n",
    "print(\"Intercept: \", model.intercept_)\n",
    "\n",
    "predictions = model.predict(x_test)\n",
    "\n",
    "for x in range(len(predictions)):\n",
    "    print(predictions[x], x_test[x], y_test[x])\n",
    "\n",
    "p = \"absences\"\n",
    "style.use(\"ggplot\")\n",
    "style = plt.scatter(data[p], data[\"G3\"])\n",
    "plt.xlabel(p)\n",
    "plt.ylabel(\"Final Grade\")\n",
    "plt.show()\n",
    "\n"
   ]
  }
 ],
 "metadata": {
  "kernelspec": {
   "display_name": "Python 3.9.13 ('tensorflow')",
   "language": "python",
   "name": "python3"
  },
  "language_info": {
   "codemirror_mode": {
    "name": "ipython",
    "version": 3
   },
   "file_extension": ".py",
   "mimetype": "text/x-python",
   "name": "python",
   "nbconvert_exporter": "python",
   "pygments_lexer": "ipython3",
   "version": "3.9.13"
  },
  "orig_nbformat": 4,
  "vscode": {
   "interpreter": {
    "hash": "1d8ca0b914c7622bbce57abc1d9da9ba0ec6e6c2ead2c7c682ec4e4adc27ccb8"
   }
  }
 },
 "nbformat": 4,
 "nbformat_minor": 2
}
