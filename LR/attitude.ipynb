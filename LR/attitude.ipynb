{
 "cells": [
  {
   "cell_type": "code",
   "execution_count": 2,
   "metadata": {},
   "outputs": [
    {
     "ename": "ValueError",
     "evalue": "With n_samples=1, test_size=0.1 and train_size=0.9, the resulting train set will be empty. Adjust any of the aforementioned parameters.",
     "output_type": "error",
     "traceback": [
      "\u001b[0;31m---------------------------------------------------------------------------\u001b[0m",
      "\u001b[0;31mValueError\u001b[0m                                Traceback (most recent call last)",
      "Cell \u001b[0;32mIn [2], line 14\u001b[0m\n\u001b[1;32m     11\u001b[0m correct \u001b[39m=\u001b[39m np\u001b[39m.\u001b[39marray([\u001b[39m17.0\u001b[39m, \u001b[39m13.0\u001b[39m, \u001b[39m12.0\u001b[39m, \u001b[39m15.0\u001b[39m, \u001b[39m16.0\u001b[39m, \u001b[39m14.0\u001b[39m, \u001b[39m16.0\u001b[39m, \u001b[39m16.0\u001b[39m, \u001b[39m18.0\u001b[39m, \u001b[39m19.0\u001b[39m], dtype\u001b[39m=\u001b[39m\u001b[39mfloat\u001b[39m, ndmin\u001b[39m=\u001b[39m\u001b[39m2\u001b[39m);\n\u001b[1;32m     12\u001b[0m attitude \u001b[39m=\u001b[39m np\u001b[39m.\u001b[39marray([\u001b[39m94.0\u001b[39m, \u001b[39m73.0\u001b[39m, \u001b[39m59.0\u001b[39m, \u001b[39m80.0\u001b[39m, \u001b[39m93.0\u001b[39m, \u001b[39m85.0\u001b[39m, \u001b[39m66.0\u001b[39m, \u001b[39m79.0\u001b[39m, \u001b[39m77.0\u001b[39m, \u001b[39m91.0\u001b[39m], dtype\u001b[39m=\u001b[39m\u001b[39mfloat\u001b[39m, ndmin\u001b[39m=\u001b[39m\u001b[39m2\u001b[39m);\n\u001b[0;32m---> 14\u001b[0m x_train, x_test, y_train, y_test \u001b[39m=\u001b[39m sklearn\u001b[39m.\u001b[39;49mmodel_selection\u001b[39m.\u001b[39;49mtrain_test_split(correct, attitude, test_size\u001b[39m=\u001b[39;49m\u001b[39m0.1\u001b[39;49m, train_size\u001b[39m=\u001b[39;49m\u001b[39m0.9\u001b[39;49m)\n\u001b[1;32m     16\u001b[0m model\u001b[39m.\u001b[39mfit([x_train, y_train])\n\u001b[1;32m     17\u001b[0m acc \u001b[39m=\u001b[39m model\u001b[39m.\u001b[39mscore(x_test, y_test)\n",
      "File \u001b[0;32m~/opt/miniconda3/envs/tensorflow/lib/python3.9/site-packages/sklearn/model_selection/_split.py:2448\u001b[0m, in \u001b[0;36mtrain_test_split\u001b[0;34m(test_size, train_size, random_state, shuffle, stratify, *arrays)\u001b[0m\n\u001b[1;32m   2445\u001b[0m arrays \u001b[39m=\u001b[39m indexable(\u001b[39m*\u001b[39marrays)\n\u001b[1;32m   2447\u001b[0m n_samples \u001b[39m=\u001b[39m _num_samples(arrays[\u001b[39m0\u001b[39m])\n\u001b[0;32m-> 2448\u001b[0m n_train, n_test \u001b[39m=\u001b[39m _validate_shuffle_split(\n\u001b[1;32m   2449\u001b[0m     n_samples, test_size, train_size, default_test_size\u001b[39m=\u001b[39;49m\u001b[39m0.25\u001b[39;49m\n\u001b[1;32m   2450\u001b[0m )\n\u001b[1;32m   2452\u001b[0m \u001b[39mif\u001b[39;00m shuffle \u001b[39mis\u001b[39;00m \u001b[39mFalse\u001b[39;00m:\n\u001b[1;32m   2453\u001b[0m     \u001b[39mif\u001b[39;00m stratify \u001b[39mis\u001b[39;00m \u001b[39mnot\u001b[39;00m \u001b[39mNone\u001b[39;00m:\n",
      "File \u001b[0;32m~/opt/miniconda3/envs/tensorflow/lib/python3.9/site-packages/sklearn/model_selection/_split.py:2126\u001b[0m, in \u001b[0;36m_validate_shuffle_split\u001b[0;34m(n_samples, test_size, train_size, default_test_size)\u001b[0m\n\u001b[1;32m   2123\u001b[0m n_train, n_test \u001b[39m=\u001b[39m \u001b[39mint\u001b[39m(n_train), \u001b[39mint\u001b[39m(n_test)\n\u001b[1;32m   2125\u001b[0m \u001b[39mif\u001b[39;00m n_train \u001b[39m==\u001b[39m \u001b[39m0\u001b[39m:\n\u001b[0;32m-> 2126\u001b[0m     \u001b[39mraise\u001b[39;00m \u001b[39mValueError\u001b[39;00m(\n\u001b[1;32m   2127\u001b[0m         \u001b[39m\"\u001b[39m\u001b[39mWith n_samples=\u001b[39m\u001b[39m{}\u001b[39;00m\u001b[39m, test_size=\u001b[39m\u001b[39m{}\u001b[39;00m\u001b[39m and train_size=\u001b[39m\u001b[39m{}\u001b[39;00m\u001b[39m, the \u001b[39m\u001b[39m\"\u001b[39m\n\u001b[1;32m   2128\u001b[0m         \u001b[39m\"\u001b[39m\u001b[39mresulting train set will be empty. Adjust any of the \u001b[39m\u001b[39m\"\u001b[39m\n\u001b[1;32m   2129\u001b[0m         \u001b[39m\"\u001b[39m\u001b[39maforementioned parameters.\u001b[39m\u001b[39m\"\u001b[39m\u001b[39m.\u001b[39mformat(n_samples, test_size, train_size)\n\u001b[1;32m   2130\u001b[0m     )\n\u001b[1;32m   2132\u001b[0m \u001b[39mreturn\u001b[39;00m n_train, n_test\n",
      "\u001b[0;31mValueError\u001b[0m: With n_samples=1, test_size=0.1 and train_size=0.9, the resulting train set will be empty. Adjust any of the aforementioned parameters."
     ]
    }
   ],
   "source": [
    "import numpy as np\n",
    "import matplotlib.pyplot as plt\n",
    "import sklearn\n",
    "from sklearn import linear_model\n",
    "from matplotlib import style\n",
    "from sklearn.utils import shuffle\n",
    "import pickle\n",
    "\n",
    "model = linear_model.LinearRegression()\n",
    "\n",
    "correct = np.array([17.0, 13.0, 12.0, 15.0, 16.0, 14.0, 16.0, 16.0, 18.0, 19.0], dtype=float, ndmin=2);\n",
    "attitude = np.array([94.0, 73.0, 59.0, 80.0, 93.0, 85.0, 66.0, 79.0, 77.0, 91.0], dtype=float, ndmin=2);\n",
    "\n",
    "x_train, x_test, y_train, y_test = sklearn.model_selection.train_test_split(correct, attitude, test_size=0.1, train_size=0.9)\n",
    "\n",
    "model.fit(x_train, y_train)\n",
    "acc = model.score(x_test, y_test)\n",
    "print(acc)\n",
    "\n",
    "print(f\"X10: Y={model.predict([10.0])}\")\n",
    "\n",
    "plt.scatter(x_test, y_test)\n",
    "plt.plot(x_test, y_pred, color='red', linewidth=3)  \n",
    "plt.show()\n",
    "\n"
   ]
  }
 ],
 "metadata": {
  "kernelspec": {
   "display_name": "Python 3.9 (tensorflow)",
   "language": "python",
   "name": "tensorflow"
  },
  "language_info": {
   "codemirror_mode": {
    "name": "ipython",
    "version": 3
   },
   "file_extension": ".py",
   "mimetype": "text/x-python",
   "name": "python",
   "nbconvert_exporter": "python",
   "pygments_lexer": "ipython3",
   "version": "3.9.13"
  },
  "orig_nbformat": 4,
  "vscode": {
   "interpreter": {
    "hash": "31f2aee4e71d21fbe5cf8b01ff0e069b9275f58929596ceb00d14d90e3e16cd6"
   }
  }
 },
 "nbformat": 4,
 "nbformat_minor": 2
}
